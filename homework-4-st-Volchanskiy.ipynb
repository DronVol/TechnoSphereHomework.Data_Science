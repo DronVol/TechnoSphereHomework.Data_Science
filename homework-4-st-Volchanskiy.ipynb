{
 "cells": [
  {
   "cell_type": "markdown",
   "metadata": {},
   "source": [
    "# Домашнее задание 4. Конструирование текстовых признаков из твитов пользователей"
   ]
  },
  {
   "cell_type": "markdown",
   "metadata": {},
   "source": [
    "## Сбор данных"
   ]
  },
  {
   "cell_type": "code",
   "execution_count": 1,
   "metadata": {
    "collapsed": true
   },
   "outputs": [],
   "source": [
    "import pandas as pd\n",
    "from collections import defaultdict\n",
    "import json\n",
    "from sklearn.feature_extraction import DictVectorizer\n",
    "\n",
    "import nltk\n",
    "\n",
    "import os\n",
    "import json\n",
    "import re"
   ]
  },
  {
   "cell_type": "markdown",
   "metadata": {},
   "source": [
    "Первый этап - сбор твитов пользователей. Необходимо подключаться к Twitter API и запрашивать твиты по id пользователя. \n",
    "Подключение к API подробно описано в ДЗ 1."
   ]
  },
  {
   "cell_type": "code",
   "execution_count": 2,
   "metadata": {
    "collapsed": false
   },
   "outputs": [],
   "source": [
    "import twitter\n",
    "\n",
    "CONSUMER_KEY = \"pEeYvgCsR5cOnxu0LXgNEbSbh\"\n",
    "CONSUMER_SECRET = \"XTVthLigui9TioOkINuW28wBHJ8XVtAJVrmOKZZXqR91BUzES3\"\n",
    "\n",
    "ACCESS_TOKEN_KEY = \"159127782-PeTXoGSz4xJBzYBJ2x3M5rIGuLXV8fOJ6cQgmHBS\"\n",
    "ACCESS_TOKEN_SECRET = \"tW5BG5ktDzFlkz921eFKR95zre21oR9nvIyTKSWDE5yYm\"\n",
    "\n",
    "api = twitter.Api(consumer_key=CONSUMER_KEY, \n",
    "                  consumer_secret=CONSUMER_SECRET, \n",
    "                  access_token_key=ACCESS_TOKEN_KEY, \n",
    "                  access_token_secret=ACCESS_TOKEN_SECRET)"
   ]
  },
  {
   "cell_type": "markdown",
   "metadata": {},
   "source": [
    "Для получения твитов пользователя может быть использован метод GetUserTimeline из библиотеки python-twitter. Он позволяет получить не более 200 твитов пользователя. По каждому пользователю достаточно собрать 200 твитов.\n",
    "\n",
    "Метод имеет ограничение по количеству запросов в секунду. Для получения информации о промежутке времени, которое необходимо подождать для повторного обращения к API может быть использован метод `GetSleepTime`. Для получения информации об ограничениях запросов с помощью метода `GetUserTimeLine` необходимо вызывать `GetSleepTime` с параметром \"statuses/user_timeline\".\n",
    "\n",
    "Метод GetUserTimeline возвращает объекты типа Status. У этих объектов есть метод AsDict, который позволяет представить твит в виде словаря.\n",
    "\n",
    "Id пользователей необходимо считать из файла, как было сделано в ДЗ 1.\n",
    "\n",
    "Необходимо реализовать функцию `get_user_tweets(user_id)`. Входной параметр - id пользователя из файла. Возвращаемое значение - массив твитов пользователя, где каждый твит представлен в виде словаря. Предполагается, что информация о пользователе содержится в твитах, которые пользователь написал сам. Это означает, что можно попробовать отфильтровать ответы другим пользователям, ссылки и ретвиты, а так же картинки и видео, так как наша цель - найти текстовую информацию."
   ]
  },
  {
   "cell_type": "markdown",
   "metadata": {},
   "source": [
    "Дабы обезопасить себя от проблем с интернетом, при скачивании все твитты будем сохранять в отдельный каталог."
   ]
  },
  {
   "cell_type": "code",
   "execution_count": 3,
   "metadata": {
    "collapsed": false
   },
   "outputs": [],
   "source": [
    "catalog = \"downloaded_tweets\"\n",
    "if not os.path.exists(catalog):\n",
    "    os.makedirs(catalog)\n",
    "\n",
    "\n",
    "def get_user_tweets(user_id):\n",
    "    \"\"\"returns list of tweets as dicts\"\"\"\n",
    "    # your code here\n",
    "    user_tweets = []\n",
    "\n",
    "    user_tweets = download_user_tweets(user_id)\n",
    "    filter_user_tweets = [tweet_filter(tweet) for tweet in user_tweets]\n",
    "    \n",
    "    return [tweet for tweet in filter_user_tweets if tweet[\"text\"] != \"\"]\n",
    "\n",
    "def tweet_filter(tweet):\n",
    "    \"\"\"cleen all tweets from garbage\"\"\"\n",
    "    urls = re.findall('http[s]?://(?:[a-zA-Z]|[0-9]|[$-_@.&+]|[!*\\(\\),]|(?:%[0-9a-fA-F][0-9a-fA-F]))+', tweet[\"text\"])\n",
    "    \n",
    "    nicknames = re.findall('@(?:[a-zA-Z]|[0-9]|[_])+', tweet[\"text\"])\n",
    "    \n",
    "    # Удалим все хэштеги\n",
    "    hstgs = []\n",
    "    if \"hashtags\" in tweet:\n",
    "        for hstg in tweet[\"hashtags\"]:\n",
    "            if 'text' in hstg:\n",
    "                hstgs.append(\"#\"+hstg['text'])\n",
    "    \n",
    "    delete_list = []\n",
    "    delete_list.extend(urls)\n",
    "    delete_list.extend(nicknames)\n",
    "    delete_list.extend(hstgs)\n",
    "    \n",
    "    for del_obj in delete_list:\n",
    "        tweet[\"text\"]=tweet[\"text\"].replace(del_obj, \"\")\n",
    "    \n",
    "    # Удалим текст, если есть фото или видео файл    \n",
    "    if \"media\" in tweet: tweet[\"text\"] = \"\"\n",
    "        \n",
    "    return tweet\n",
    "\n",
    "def save_in_file(user_tweets,file_name):\n",
    "    f = open(file_name, 'a')        \n",
    "    for tweet in user_tweets:\n",
    "        # нам незачем хранить всю информацию о пользователе\n",
    "        tweet[\"user\"] = tweet[\"user\"][\"id\"] \n",
    "        f.write(json.dumps(tweet)+'\\n')\n",
    "    f.close()\n",
    "\n",
    "def download_user_tweets(user_id):\n",
    "    \"\"\"download a list of tweets from a file, if it exists, or from the internet\"\"\"\n",
    "    global catalog\n",
    "    file_name = catalog + '/' + str(user_id)\n",
    "    user_tweets = []\n",
    "    \n",
    "    if os.path.exists(file_name):\n",
    "        with open(file_name) as f:\n",
    "            for line in f:\n",
    "                try:\n",
    "                    user_tweets.append(json.loads(line))\n",
    "                except:\n",
    "                    continue\n",
    "    else:\n",
    "        try:\n",
    "            user_tweets = [tweet.AsDict() for tweet in api.GetUserTimeline(user_id = user_id, \n",
    "                                                                           count = 200, \n",
    "                                                                           exclude_replies = True, \n",
    "                                                                           include_rts = False)]\n",
    "            save_in_file(user_tweets,file_name)\n",
    "        except twitter.TwitterError, e: \n",
    "            t = e.args[0]\n",
    "            print \"Error ocured user {0}: {1}\".format(user_id, t)\n",
    "        \n",
    "    return user_tweets\n",
    "       \n",
    "#a = get_user_tweets(25073877)\n",
    "#print a"
   ]
  },
  {
   "cell_type": "markdown",
   "metadata": {},
   "source": [
    "## Разбор текста твита"
   ]
  },
  {
   "cell_type": "markdown",
   "metadata": {},
   "source": [
    "Обработка текста предполагает разбиение текста на отдельные элементы - параграфы, предложения, слова. Мы будем преобразовывать текст твита к словам. Для этого текст необходимо разбить на слова. Сделать это можно, например, с помощью регулярного выражения.\n",
    "\n",
    "Необходимо реализовать функцию, `get_words(text)`. Входной параметр - строка с текстом. Возвращаемое значение - массив строк (слов). Обратите внимание, что нужно учесть возможное наличие пунктуации и выделить по возможности только слова. "
   ]
  },
  {
   "cell_type": "code",
   "execution_count": 4,
   "metadata": {
    "collapsed": false
   },
   "outputs": [],
   "source": [
    "def get_words(text):\n",
    "    \"\"\"returns list of words\"\"\"\n",
    "    words = []\n",
    "    blocks = [block for block in text.split(\" \") if block != ''] \n",
    "    for block in blocks:\n",
    "        words.append(\"\".join(re.findall('[a-zA-Z]', block)))\n",
    "    return words"
   ]
  },
  {
   "cell_type": "code",
   "execution_count": 5,
   "metadata": {
    "collapsed": false
   },
   "outputs": [
    {
     "name": "stdout",
     "output_type": "stream",
     "text": [
      "['Here', 'are', 'different', 'NewYork', 'words']\n"
     ]
    }
   ],
   "source": [
    "print get_words(\"Here are:)      #different, New-York %words!\")"
   ]
  },
  {
   "cell_type": "markdown",
   "metadata": {},
   "source": [
    "Далее полученные слова необходимо привести к нормальной форме. То есть привести их к форме единственного числа настоящего времени и пр. Сделать это можно с помощью библиотеки nltk. Информацию по загрузке, установке библиотеки и примерах использования можно найти на сайте http://www.nltk.org/\n",
    "\n",
    "Для загрузки всех необходимых словарей можно воспользоваться методом download из библиотеки nltk."
   ]
  },
  {
   "cell_type": "code",
   "execution_count": 6,
   "metadata": {
    "collapsed": false
   },
   "outputs": [],
   "source": [
    "import nltk\n",
    "#nltk.download()"
   ]
  },
  {
   "cell_type": "markdown",
   "metadata": {},
   "source": [
    "Для дальнейшей обработки слова должны быть приведены к нижнему регистру. \n",
    "\n",
    "Для приведения к нормальной форме можно использовать `WordNetLemmatizer` из библиотеки nltk. У этого класса есть метод `lemmatize`.\n",
    "\n",
    "Также необходимо убрать из текста так называемые стоп-слова. Это часто используемые слова, не несущие смысловой нагрузки для наших задач. Сделать это можно с помощью `stopwords` из nltk.corpus"
   ]
  },
  {
   "cell_type": "markdown",
   "metadata": {},
   "source": [
    "Необходимо реализовать функцию `get_tokens(words)`. Входной параметр - массив слов. Возвращаемое значение - массив токенов."
   ]
  },
  {
   "cell_type": "code",
   "execution_count": 7,
   "metadata": {
    "collapsed": false
   },
   "outputs": [],
   "source": [
    "from nltk.corpus import stopwords\n",
    "\n",
    "def get_tokens(words):\n",
    "    \"\"\"returns list of tokens\"\"\"\n",
    "    # your code here\n",
    "    stops = set(stopwords.words('english'))\n",
    "    new_words = []\n",
    "    for word in words:\n",
    "        word = nltk.stem.WordNetLemmatizer().lemmatize(word.lower())\n",
    "        if word not in stops and len(word) > 1:\n",
    "            new_words.append(word)\n",
    "    return new_words"
   ]
  },
  {
   "cell_type": "code",
   "execution_count": 8,
   "metadata": {
    "collapsed": false
   },
   "outputs": [
    {
     "name": "stdout",
     "output_type": "stream",
     "text": [
      "['different', 'newyork', u'word']\n"
     ]
    }
   ],
   "source": [
    "print get_tokens(['Here', 'aRe', \"different\", 'NewYork', 'words', 'our'])"
   ]
  },
  {
   "cell_type": "markdown",
   "metadata": {},
   "source": [
    "Необходимо реализовать функцию `get_tweet_tokens(tweet)`. Входной параметр - текст твита. Возвращаемое значение -- токены твита. "
   ]
  },
  {
   "cell_type": "code",
   "execution_count": 9,
   "metadata": {
    "collapsed": false
   },
   "outputs": [],
   "source": [
    "def get_tweet_tokens(tweet):\n",
    "    return get_tokens(get_words(tweet))"
   ]
  },
  {
   "cell_type": "markdown",
   "metadata": {},
   "source": [
    "Необходимо реализовать функцию `collect_users_tokens()`. Функция должна сконструировать матрицу признаков пользователей. В этой матрице строка - пользователь. Столбец - токен. На пересечении - сколько раз токен встречается у пользователя.\n",
    "Для построения матрицы можно использовать `DictVectorizer` из `sklearn.feature_extraction`."
   ]
  },
  {
   "cell_type": "code",
   "execution_count": 10,
   "metadata": {
    "collapsed": false,
    "scrolled": true
   },
   "outputs": [],
   "source": [
    "from collections import defaultdict\n",
    "\n",
    "def collect_users_tokens(df_users):\n",
    "    \"\"\"returns users list and list of user dicts. Each dict contains frequence of user tokens\"\"\"\n",
    "    users = [] \n",
    "    users_tokens = [] \n",
    "    check_point_counter = len(df_users)/10\n",
    "    counter = 0\n",
    "    for user in df_users[\"uid\"]:\n",
    "        tokens = [] \n",
    "        tweets = get_user_tweets(user)\n",
    "        for tweet in tweets:\n",
    "            token = get_tweet_tokens(tweet[\"text\"])\n",
    "            if len(token) > 0: tokens.append(token)\n",
    "        \n",
    "        record = defaultdict(int)\n",
    "        for tweet in tokens:\n",
    "            for word in tweet:\n",
    "                record[word]+=1\n",
    "                \n",
    "        if record:\n",
    "            users_tokens.append(dict(record))\n",
    "            users.append(user)\n",
    "        \n",
    "        counter += 1\n",
    "        if counter % check_point_counter == 0: \n",
    "            print \"{0} treated users in {1}\".format(counter,len(df_users))\n",
    "    \n",
    "    return users, users_tokens\n",
    "\n",
    "#len(collect_users_tokens({\"uid\":[25073877]})[1][0])"
   ]
  },
  {
   "cell_type": "code",
   "execution_count": 11,
   "metadata": {
    "collapsed": false,
    "scrolled": true
   },
   "outputs": [
    {
     "name": "stdout",
     "output_type": "stream",
     "text": [
      "1194 treated users in 11947\n",
      "2388 treated users in 11947\n",
      "3582 treated users in 11947\n",
      "4776 treated users in 11947\n",
      "5970 treated users in 11947\n",
      "7164 treated users in 11947\n",
      "8358 treated users in 11947\n",
      "9552 treated users in 11947\n",
      "10746 treated users in 11947\n",
      "11940 treated users in 11947\n"
     ]
    }
   ],
   "source": [
    "TRAINING_SET_URL = \"train.csv\"\n",
    "EXAMPLE_SET_URL = \"test_submition.csv\"\n",
    "df_users_train = pd.read_csv(TRAINING_SET_URL, sep=\",\", header=0, names=[\"uid\", \"cat\"])\n",
    "df_users_ex = pd.read_csv(EXAMPLE_SET_URL, sep=\",\", header=0, names=[\"uid\", \"cat\"])\n",
    "df_users_ex['cat'] = None\n",
    "df_users = pd.concat([df_users_train, df_users_ex])\n",
    "\n",
    "users, users_tokens = collect_users_tokens(df_users)\n",
    "v = DictVectorizer()\n",
    "vs = v.fit_transform(users_tokens)"
   ]
  },
  {
   "cell_type": "markdown",
   "metadata": {},
   "source": [
    "Сохраним полученные данные в файл. Используется метод savez из numpy. "
   ]
  },
  {
   "cell_type": "code",
   "execution_count": 12,
   "metadata": {
    "collapsed": false
   },
   "outputs": [],
   "source": [
    "import numpy as np\n",
    "np.savez(\"files/out_4.dat\", data=vs, users=users, users_tokens=users_tokens )"
   ]
  },
  {
   "cell_type": "markdown",
   "metadata": {},
   "source": [
    "Далее для получения представления о полученной информацию о токенах предлагается отобразить ее в виде облака тэгов. [Подсказка](http://anokhin.github.io/img/tag_cloud.png). "
   ]
  },
  {
   "cell_type": "markdown",
   "metadata": {},
   "source": [
    "Нет смысла использовать абсолютно все слова в построении облака. Используем для этого только 200 наиболее используемых слов."
   ]
  },
  {
   "cell_type": "markdown",
   "metadata": {},
   "source": [
    "Для начала составитм строку из top-N слов наиболее популярных у наших пользователей с сохранением частоты встречаемости слова."
   ]
  },
  {
   "cell_type": "code",
   "execution_count": 13,
   "metadata": {
    "collapsed": false,
    "scrolled": true
   },
   "outputs": [],
   "source": [
    "def create_top_N_words_string(user_tokens, N = 100):\n",
    "    \"\"\"Create string of top-N words by their frequency\"\"\"\n",
    "    string = \"\"\n",
    "    words = defaultdict(int)\n",
    "    for tokens in users_tokens:\n",
    "        for token in tokens:\n",
    "            words[token] += tokens[token]\n",
    "            \n",
    "    words_list = sorted(words.items(), key=lambda x: x[1], reverse=True)\n",
    "    top_words = [(key[0], key[1]/words_list[N][1]) for key in words_list[0:N]]\n",
    "\n",
    "    for word_tuple in top_words:\n",
    "        for w in xrange(word_tuple[1]):\n",
    "            string += word_tuple[0] + \" \"\n",
    "    return string"
   ]
  },
  {
   "cell_type": "code",
   "execution_count": 16,
   "metadata": {
    "collapsed": false
   },
   "outputs": [
    {
     "data": {
      "image/png": "[encoded data removed]",
      "text/plain": [
       "<matplotlib.figure.Figure at 0x1408341d0>"
      ]
     },
     "metadata": {},
     "output_type": "display_data"
    }
   ],
   "source": [
    "%matplotlib inline\n",
    "import matplotlib.pyplot as plt\n",
    "from wordcloud import WordCloud, STOPWORDS\n",
    "\n",
    "def draw_tag_cloud(users_tokens):\n",
    "    \"\"\"Draws tag cloud of found tokens\"\"\"\n",
    "    string = create_top_N_words_string(users_tokens, 200) \n",
    "    wordcloud = WordCloud(\n",
    "                      font_path=None,\n",
    "                      stopwords=STOPWORDS,\n",
    "                      background_color='black',\n",
    "                      width=3000,\n",
    "                      height=2000\n",
    "                     ).generate(string)\n",
    "    \n",
    "    plt.imshow(wordcloud)\n",
    "    plt.axis('off')\n",
    "    plt.savefig('wordcloud.png', dpi=800)\n",
    "    plt.show()\n",
    "    return\n",
    "\n",
    "draw_tag_cloud(users_tokens)"
   ]
  }
 ],
 "metadata": {
  "kernelspec": {
   "display_name": "Python [Root]",
   "language": "python",
   "name": "Python [Root]"
  },
  "language_info": {
   "codemirror_mode": {
    "name": "ipython",
    "version": 2
   },
   "file_extension": ".py",
   "mimetype": "text/x-python",
   "name": "python",
   "nbconvert_exporter": "python",
   "pygments_lexer": "ipython2",
   "version": "2.7.12"
  }
 },
 "nbformat": 4,
 "nbformat_minor": 0
}
