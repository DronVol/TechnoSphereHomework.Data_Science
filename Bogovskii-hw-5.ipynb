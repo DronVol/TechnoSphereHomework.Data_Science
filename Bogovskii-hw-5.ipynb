{
 "cells": [
  {
   "cell_type": "markdown",
   "metadata": {},
   "source": [
    "# Домашнее задание 5. Линейные модели"
   ]
  },
  {
   "cell_type": "code",
   "execution_count": 1,
   "metadata": {
    "collapsed": false
   },
   "outputs": [
    {
     "name": "stdout",
     "output_type": "stream",
     "text": [
      "Populating the interactive namespace from numpy and matplotlib\n"
     ]
    },
    {
     "name": "stderr",
     "output_type": "stream",
     "text": [
      "C:\\Anaconda2\\lib\\site-packages\\sklearn\\cross_validation.py:44: DeprecationWarning: This module was deprecated in version 0.18 in favor of the model_selection module into which all the refactored classes and functions are moved. Also note that the interface of the new CV iterators are different from that of this module. This module will be removed in 0.20.\n",
      "  \"This module will be removed in 0.20.\", DeprecationWarning)\n"
     ]
    }
   ],
   "source": [
    "import random as pr\n",
    "import numpy as np\n",
    "import pandas as pd\n",
    "import matplotlib.pylab as pl\n",
    "import sklearn.cross_validation as cv\n",
    "import sklearn.metrics as sm\n",
    "import sklearn as sk\n",
    "import itertools as it\n",
    "\n",
    "# Plotting config\n",
    "%pylab inline"
   ]
  },
  {
   "cell_type": "markdown",
   "metadata": {},
   "source": [
    "Зачитываем результат 4 домашки"
   ]
  },
  {
   "cell_type": "code",
   "execution_count": 2,
   "metadata": {
    "collapsed": false,
    "scrolled": true
   },
   "outputs": [
    {
     "name": "stdout",
     "output_type": "stream",
     "text": [
      "(16474, 586990)\n"
     ]
    }
   ],
   "source": [
    "data = np.load(\"out_4.dat.npz\")\n",
    "users = data[\"users\"]\n",
    "X_dataset = data[\"data\"].reshape(1,)[0]\n",
    "print X_dataset.shape"
   ]
  },
  {
   "cell_type": "markdown",
   "metadata": {},
   "source": [
    "Зачитываем категории пользователей"
   ]
  },
  {
   "cell_type": "code",
   "execution_count": 3,
   "metadata": {
    "collapsed": false
   },
   "outputs": [],
   "source": [
    "TRAINING_SET_URL = \"train.csv\"\n",
    "EXAMPLE_SET_URL = \"test_submition.csv\" # WRN: [test.csv uids] != [test_submition.csv uids]\n",
    "df_users_train = pd.read_csv(TRAINING_SET_URL, sep=\",\", header=0)\n",
    "df_users_ex = pd.read_csv(EXAMPLE_SET_URL, sep=\",\", header=0)\n",
    "df_users_ex['cls'] = None\n",
    "df_users = pd.concat([df_users_train, df_users_ex]) # WRN: make sure TRAINING_SET and EXAMPLE_SET uids do not overlap"
   ]
  },
  {
   "cell_type": "markdown",
   "metadata": {},
   "source": [
    "Модель строим для пользователей из twitter_train, нужно выбрать этих пользователей из матрицы из 4 ДЗ:"
   ]
  },
  {
   "cell_type": "code",
   "execution_count": 4,
   "metadata": {
    "collapsed": false,
    "scrolled": true
   },
   "outputs": [],
   "source": [
    "train_users = df_users_train[\"uid\"].values\n",
    "ix = np.in1d(users, train_users).reshape(users.shape)\n",
    "X = X_dataset[np.where(ix)]"
   ]
  },
  {
   "cell_type": "markdown",
   "metadata": {},
   "source": [
    "Формируем целевую переменную: Делаем join списка пользователей из ДЗ4 с обучающей выборкой."
   ]
  },
  {
   "cell_type": "code",
   "execution_count": 5,
   "metadata": {
    "collapsed": false
   },
   "outputs": [
    {
     "name": "stdout",
     "output_type": "stream",
     "text": [
      "Resulting training set: (7186x586990) feature matrix, 7186 target vector\n"
     ]
    }
   ],
   "source": [
    "Y = df_users_train[df_users_train['uid'].isin(users)]['cls'].values\n",
    "print \"Resulting training set: (%dx%d) feature matrix, %d target vector\" % (X.shape[0], X.shape[1], Y.shape[0])"
   ]
  },
  {
   "cell_type": "markdown",
   "metadata": {},
   "source": [
    "Чтобы исследовать, как ведут себя признаки, построим распределение количества ненулевых признаков у пользователей, чтобы убедиться, что он удовлетворяет закону Ципфа. Для этого построим гистограмму в логарифмических осях. [Подсказка](http://anokhin.github.io/img/sf1.png)"
   ]
  },
  {
   "cell_type": "code",
   "execution_count": 6,
   "metadata": {
    "collapsed": false
   },
   "outputs": [
    {
     "name": "stdout",
     "output_type": "stream",
     "text": [
      "X axis from 1 to 6877.2\n",
      "Y axis from 0.5 to 309417.9\n"
     ]
    },
    {
     "data": {
      "image/png": "[encoded data removed]",
      "text/plain": [
       "<matplotlib.figure.Figure at 0x3cc72e8>"
      ]
     },
     "metadata": {},
     "output_type": "display_data"
    }
   ],
   "source": [
    "def draw_log_hist(X):\n",
    "    features_counts = np.array((X > 0).sum(axis=0)).ravel() # frequency of each feature\n",
    "    tmp_x, tmp_y = np.unique(features_counts, return_counts=True) # frequency and amount\n",
    "    plt.figure(figsize=(12, 12))\n",
    "    plt.xscale('log') # transform to log axis\n",
    "    plt.yscale('log')\n",
    "    plt.xlim(1, tmp_x.max() * 1.1)\n",
    "    plt.ylim(0.5, tmp_y.max() * 1.1) # 0.5 for better visibility\n",
    "    print \"X axis from\", 1, \"to\", tmp_x.max() * 1.1\n",
    "    print \"Y axis from\", 0.5, \"to\", tmp_y.max() * 1.1\n",
    "    plt.scatter(tmp_x, tmp_y, c = 'b', linewidths = 0, alpha = 0.75)\n",
    "    plt.show()\n",
    "    \n",
    "    return features_counts.astype(np.int)\n",
    "\n",
    "features_counts = draw_log_hist(X)"
   ]
  },
  {
   "cell_type": "markdown",
   "metadata": {},
   "source": [
    "Проведем отбор признаков. В самом простом случае просто удаляем признаки, имеющие ненулевое значение у менее, чем 100 пользователей."
   ]
  },
  {
   "cell_type": "code",
   "execution_count": 7,
   "metadata": {
    "collapsed": false
   },
   "outputs": [
    {
     "name": "stdout",
     "output_type": "stream",
     "text": [
      "(7186L, 10259L)\n"
     ]
    }
   ],
   "source": [
    "X1 = X.tocsc()[:, features_counts > 100].toarray()\n",
    "print X1.shape"
   ]
  },
  {
   "cell_type": "markdown",
   "metadata": {},
   "source": [
    "Вариант задания генерируется на основании вашего ника в техносфере."
   ]
  },
  {
   "cell_type": "code",
   "execution_count": 8,
   "metadata": {
    "collapsed": false
   },
   "outputs": [
    {
     "name": "stdout",
     "output_type": "stream",
     "text": [
      "My homework 5 algorithm is: Logistic regression with L1 regularization optimized by stochastic gradient descent\n"
     ]
    }
   ],
   "source": [
    "USER_NAME = \"a.bogovskij\"\n",
    "OPTIMIZATION_ALGORITHMS = [\"stochastic gradient descent\", \"Newton method\"]\n",
    "REGULARIZATIONS = [\"L1\", \"L2\"]\n",
    "\n",
    "print \"My homework 5 algorithm is: Logistic regression with %s regularization optimized by %s\" % (\n",
    "    REGULARIZATIONS[hash(USER_NAME) % 2],\n",
    "    OPTIMIZATION_ALGORITHMS[hash(USER_NAME[::-1]) % 2]\n",
    ")"
   ]
  },
  {
   "cell_type": "markdown",
   "metadata": {},
   "source": [
    "Реализуем выбранный алгоритм"
   ]
  },
  {
   "cell_type": "code",
   "execution_count": 9,
   "metadata": {
    "collapsed": false
   },
   "outputs": [],
   "source": [
    "import sklearn.linear_model as sklm\n",
    "\n",
    "def sigm_func(x):\n",
    "    return 1.0 / (1.0 + np.exp(-x))\n",
    "\n",
    "class LogisticRegression():\n",
    "    def __init__(self, C = 1, threshold = 0.5, max_it = 30000, eps = 0.001, step = 0.5):\n",
    "        self.C = C\n",
    "        self.threshold = threshold\n",
    "        self.max_it = max_it\n",
    "        self.eps = eps\n",
    "        self.step = step # not the real step, we use it for  eta = it_num ** (-step)\n",
    "    \n",
    "    def get_params(self, deep=True):\n",
    "        return {'C': self.C, 'threshold': self.threshold, 'max_it': self.max_it, 'eps': self.eps, 'step': self.step}\n",
    "    \n",
    "    def set_params(self, params):\n",
    "        self.C = params['C']\n",
    "        self.threshold = params['threshold']\n",
    "        self.max_it = params['max_it']\n",
    "        self.eps = params['eps']\n",
    "        self.step = params['step']\n",
    "            \n",
    "    ####################################       \n",
    "    def grad_desc(self, w0, X, Y, C):\n",
    "        grad = np.dot(X,(sigm_func(np.dot(X.T, w0)) - Y))/ X.shape[0]\n",
    "        grad += float(C) * np.abs(w0) / X.shape[0]\n",
    "        return grad\n",
    "        \n",
    "    def fit(self, X, Y):\n",
    "        X = np.hstack((np.ones((X.shape[0], 1)), X))\n",
    "        it_num = 1\n",
    "        if Y.ndim == 1:\n",
    "            Y = Y[:,np.newaxis]\n",
    "        self.w0 = np.zeros((X.shape[1], 1)) # initial approximation\n",
    "        while True:\n",
    "            eta = it_num ** (-self.step)\n",
    "            rand_num = pr.randint(0,X.shape[0]-1)\n",
    "            X_new = X[rand_num]\n",
    "            X_new = X_new[:,np.newaxis]\n",
    "            grad = self.grad_desc(self.w0, X_new, Y[rand_num], self.C)\n",
    "            self.w0 -= eta * grad\n",
    "            it_num += 1\n",
    "            if it_num > self.max_it or np.all(np.abs(eta * grad) < self.eps):\n",
    "                break\n",
    "        #print \"Iterations:\",it_num\n",
    "        \n",
    "        return self\n",
    "    \n",
    "    def predict_proba(self, X):\n",
    "        X = np.hstack((np.ones((X.shape[0], 1)), X))\n",
    "        return sigm_func(np.dot(X, self.w0))\n",
    "    \n",
    "    def predict(self, X):\n",
    "        p = self.predict_proba(X)\n",
    "        return np.greater(p, self.threshold)"
   ]
  },
  {
   "cell_type": "markdown",
   "metadata": {},
   "source": [
    "Реализуем метрику качества, используемую в соревновании: площадь под ROC кривой"
   ]
  },
  {
   "cell_type": "code",
   "execution_count": 11,
   "metadata": {
    "collapsed": false
   },
   "outputs": [],
   "source": [
    "def auroc(y_prob, y_true):\n",
    "    fpr, tpr, thresholds = sm.roc_curve(y_true, y_prob)\n",
    "    return tpr, fpr, np.trapz(tpr, fpr)"
   ]
  },
  {
   "cell_type": "markdown",
   "metadata": {},
   "source": [
    "Разделим выборку с помощью методики кросс-валидации для того, чтобы настроить параметр регуляризации $C$"
   ]
  },
  {
   "cell_type": "code",
   "execution_count": 12,
   "metadata": {
    "collapsed": false
   },
   "outputs": [],
   "source": [
    "C = [0.0, 0.01, 0.1, 1, 10, 100, 1000, 10000] # reg param\n",
    "T = [0.15, 0.175, 0.20, 0, 0.225, 0.25] #[0.25, 0.5, 0.75] # 1.0 class threshold"
   ]
  },
  {
   "cell_type": "code",
   "execution_count": 13,
   "metadata": {
    "collapsed": false,
    "scrolled": true
   },
   "outputs": [
    {
     "name": "stdout",
     "output_type": "stream",
     "text": [
      "0.779436194653 0.778182712759 0.779436194653 0.779436194653 0.779436194653 0.779436194653 \n",
      "0.774846486725 0.77707179966 0.779575470419 0.779436194653 0.779436194653 0.779436194653 \n",
      "0.777765466584 0.776932717601 0.778879091589 0.779436194653 0.778600540057 0.779436194653 \n",
      "0.778600540057 0.779436194653 0.777628127894 0.779436194653 0.776236726187 0.779297112594 \n",
      "0.776652422701 0.779018367355 0.779436194653 0.779436194653 0.779714552477 0.775398165976 \n",
      "0.779436194653 0.774985375076 0.779436194653 0.779436194653 0.779436194653 0.779157643121 \n",
      "0.779436194653 0.779436194653 0.779297112594 0.779436194653 0.778045374069 0.779436194653 \n",
      "0.636613642439 0.554039965752 0.719686891032 0.581673711166 0.719686891032 0.522904180597 \n",
      "4 4\n"
     ]
    }
   ],
   "source": [
    "def select_params(X, Y):\n",
    "    best_cvp = 0\n",
    "    best_i = 0\n",
    "    best_j = 0\n",
    "    for i, c in enumerate(C):\n",
    "        for j, t in enumerate(T):\n",
    "            cvp = np.mean(cv.cross_val_score(LogisticRegression(C=c, threshold=t), X, Y, cv=10, scoring='accuracy'))\n",
    "            if cvp > best_cvp:\n",
    "                best_cvp = cvp\n",
    "                best_i = i\n",
    "                best_j = j\n",
    "            print cvp,\n",
    "        print ''\n",
    "    return best_i, best_j\n",
    "\n",
    "C_idx, T_idx = select_params(X1, Y)\n",
    "print C_idx, T_idx"
   ]
  },
  {
   "cell_type": "code",
   "execution_count": 14,
   "metadata": {
    "collapsed": false
   },
   "outputs": [
    {
     "name": "stdout",
     "output_type": "stream",
     "text": [
      "[[ 0.78624205  0.78436672  0.78170344  0.78912342  0.77540492  0.76357381]\n",
      " [ 0.78893402  0.78872609  0.78803539  0.78912342  0.78616271  0.78274447]\n",
      " [ 0.78868626  0.78857697  0.78822204  0.78912342  0.78784837  0.78708334]\n",
      " [ 0.78859996  0.78857738  0.78809685  0.78912342  0.78713155  0.78625636]\n",
      " [ 0.78784837  0.78759336  0.78736541  0.78912342  0.78690119  0.78603625]\n",
      " [ 0.77604906  0.7749782   0.77303377  0.78912342  0.76851324  0.7625647 ]\n",
      " [ 0.77650496  0.77093005  0.76258469  0.78912342  0.75203391  0.74112895]\n",
      " [ 0.54642861  0.54642861  0.54642861  0.54642861  0.54642861  0.54642861]]\n",
      "0 3\n"
     ]
    }
   ],
   "source": [
    "def GetChunks(Xs, chunks_cnt):\n",
    "    chunks_size = len(Y) / chunks_cnt\n",
    "    return [[X[i : i + chunks_size] for i in xrange(0, len(X), chunks_size)] for X in Xs]\n",
    "\n",
    "def NormalizedChunks(X, Y, neg_chunks_cnt = 2):\n",
    "    ix_pos, ix_neg = (Y == 1.0), (Y == 0.0)\n",
    "    cnt_pos, cnt_neg = ix_pos.sum(), ix_neg.sum()\n",
    "    pos_Xs, pos_Ys = GetChunks([X[ix_pos], Y[ix_pos]], int(cnt_pos / (cnt_neg / float(neg_chunks_cnt))))\n",
    "    neg_Xs, neg_Ys = GetChunks([X[ix_neg], Y[ix_neg]], neg_chunks_cnt)\n",
    "    return pos_Xs, pos_Ys, neg_Xs, neg_Ys\n",
    "\n",
    "def GetSplit(pos_Xs, pos_Ys, neg_Xs, neg_Ys, i, j):\n",
    "    get_all_except = lambda A, eidx: [A[k] for k in xrange(len(A)) if k != eidx] \n",
    "    \n",
    "    to_test_X = get_all_except(pos_Xs, i)\n",
    "    to_test_X.extend(get_all_except(neg_Xs, i)) \n",
    "    \n",
    "    to_test_Y = get_all_except(pos_Ys, i)\n",
    "    to_test_Y.extend(get_all_except(neg_Ys, i))\n",
    "\n",
    "    test_X, test_Y = np.concatenate(to_test_X), np.concatenate(to_test_Y)\n",
    "    train_X, train_Y = np.concatenate([pos_Xs[i], neg_Xs[j]]), np.concatenate([pos_Ys[i], neg_Ys[j]])    \n",
    "    return train_X, train_Y, test_X, test_Y\n",
    "\n",
    "def NormalizedSelectParams(X, Y):\n",
    "    pos_Xs, pos_Ys, neg_Xs, neg_Ys = NormalizedChunks(X, Y)\n",
    "    lr = LogisticRegression()\n",
    "    acc = np.zeros(shape=(len(pos_Xs), len(neg_Xs), len(C), len(T)), dtype=float)\n",
    "    for i in xrange(len(pos_Xs)):\n",
    "        for j in xrange(len(neg_Xs)):\n",
    "            print '\\r', i, j,\n",
    "            train_X, train_Y, test_X, test_Y = GetSplit(pos_Xs, pos_Ys, neg_Xs, neg_Ys, i, j)\n",
    "            for idx_c, c in enumerate(C):\n",
    "                lr.C = c\n",
    "                lr.fit(train_X, train_Y)\n",
    "                for idx_t, t in enumerate(T):\n",
    "                    lr.threshold = t\n",
    "                    acc[i, j, idx_c, idx_t] = sm.accuracy_score(test_Y, lr.predict(test_X))\n",
    "                print '.',\n",
    "    acc = np.mean(acc, axis=(0,1))\n",
    "    print '\\r{}'.format(acc)\n",
    "    return np.unravel_index(np.argmax(acc), acc.shape)\n",
    "                   \n",
    "n_C_idx, n_T_idx = NormalizedSelectParams(X1, Y)\n",
    "print n_C_idx, n_T_idx"
   ]
  },
  {
   "cell_type": "markdown",
   "metadata": {},
   "source": [
    "Выбираем наилучшее значение $C$, и классифицируем неизвестных пользователей и строим ROC-кривую"
   ]
  },
  {
   "cell_type": "code",
   "execution_count": 15,
   "metadata": {
    "collapsed": false
   },
   "outputs": [
    {
     "name": "stdout",
     "output_type": "stream",
     "text": [
      "Area under the ROC curve : 0.501389\n"
     ]
    },
    {
     "data": {
      "image/png": "[encoded data removed]",
      "text/plain": [
       "<matplotlib.figure.Figure at 0xe6e3198>"
      ]
     },
     "metadata": {},
     "output_type": "display_data"
    }
   ],
   "source": [
    "def classify(X, Y, test_size, c, t):\n",
    "    X_train, X_test, Y_train, Y_test = cv.train_test_split(X, Y, test_size = test_size, random_state=42)\n",
    "    logreg = LogisticRegression(c, t, eps = 0.00001)\n",
    "    logreg.fit(X_train, Y_train)\n",
    "    Y_prob = logreg.predict_proba(X_test)\n",
    "    tpr, fpr, roc_auc = auroc(Y_prob, Y_test)\n",
    "    return tpr, fpr, roc_auc\n",
    "\n",
    "tpr, fpr, roc_auc = classify(X1, Y, 0.3, C[C_idx], T[T_idx])\n",
    "\n",
    "print \"Area under the ROC curve : %f\" % roc_auc\n",
    "\n",
    "def plot_roc_curve(tpr, fpr, roc_auc):\n",
    "    \"\"\"Plot ROC curve\"\"\"\n",
    "    fig = plt.figure(figsize = (7, 7))\n",
    "    ax = fig.add_subplot(111)\n",
    "    ax.set_xlim([0, 1])\n",
    "    ax.set_ylim([0, 1])\n",
    "    plt.plot(fpr, tpr, color='red')\n",
    "    plt.plot([0, 1], [0, 1], color='black') # diagonal\n",
    "    pl.fill_between(fpr, tpr, alpha=0.25, color='blue')\n",
    "    pl.text(0.5, 0.3, \"AUC = %0.3f\" % roc_auc, fontsize=30)\n",
    "    plt.xlabel(\"FPR\", fontsize=13)\n",
    "    plt.ylabel(\"TPR\", fontsize=13)\n",
    "    plt.show()\n",
    "    return\n",
    "\n",
    "plot_roc_curve(tpr, fpr, roc_auc)"
   ]
  },
  {
   "cell_type": "markdown",
   "metadata": {},
   "source": [
    "С помощью полученной модели предсказываем категории для неизвестных пользователей из соревнования и загружаем на kaggle в нужном формате. ДЗ принимается только при наличии загруженных данных на kaggle."
   ]
  },
  {
   "cell_type": "code",
   "execution_count": 16,
   "metadata": {
    "collapsed": false
   },
   "outputs": [
    {
     "name": "stdout",
     "output_type": "stream",
     "text": [
      "Resulting test set: (4527x10259) feature matrix\n"
     ]
    }
   ],
   "source": [
    "ex_users = df_users_ex['uid'].values\n",
    "eix = np.in1d(users, ex_users).reshape(users.shape)\n",
    "ex_X = X_dataset[np.where(eix)]\n",
    "ex_X1 = ex_X.tocsc()[:, features_counts > 100].toarray()\n",
    "print \"Resulting test set: (%dx%d) feature matrix\" % (ex_X1.shape[0], ex_X1.shape[1])"
   ]
  },
  {
   "cell_type": "code",
   "execution_count": 17,
   "metadata": {
    "collapsed": false
   },
   "outputs": [],
   "source": [
    "lr = LogisticRegression(C[C_idx], T[T_idx], eps = 0.00001)\n",
    "lr.fit(X1, Y)\n",
    "Y_pred = lr.predict_proba(ex_X1)"
   ]
  },
  {
   "cell_type": "code",
   "execution_count": 18,
   "metadata": {
    "collapsed": false
   },
   "outputs": [
    {
     "name": "stdout",
     "output_type": "stream",
     "text": [
      "Total 4527 written.\n",
      "Now add users without any info\n",
      "Total 221 unpredicted users written.\n"
     ]
    }
   ],
   "source": [
    "fpredict = open(\"predict.csv\", \"wt\")\n",
    "fpredict.write(\"uid,cls\\n\")\n",
    "count = 0\n",
    "for i in xrange(len(eix)):\n",
    "    if eix[i]:\n",
    "        fpredict.write(str(users[i]) + \",\" + str(float(Y_pred[count])) + \"\\n\")\n",
    "        count += 1\n",
    "print \"Total\", count, \"written.\"\n",
    "print \"Now add users without any info\"\n",
    "count = 0\n",
    "for i in df_users_ex['uid']:\n",
    "    if i not in users:\n",
    "        fpredict.write(str(i) + \",\" + str(pr.random()) + \"\\n\")\n",
    "        count += 1\n",
    "print \"Total\", count, \"unpredicted users written.\"\n",
    "fpredict.close()"
   ]
  },
  {
   "cell_type": "code",
   "execution_count": null,
   "metadata": {
    "collapsed": true
   },
   "outputs": [],
   "source": []
  }
 ],
 "metadata": {
  "anaconda-cloud": {},
  "kernelspec": {
   "display_name": "Python [Root]",
   "language": "python",
   "name": "Python [Root]"
  },
  "language_info": {
   "codemirror_mode": {
    "name": "ipython",
    "version": 2
   },
   "file_extension": ".py",
   "mimetype": "text/x-python",
   "name": "python",
   "nbconvert_exporter": "python",
   "pygments_lexer": "ipython2",
   "version": "2.7.12"
  }
 },
 "nbformat": 4,
 "nbformat_minor": 0
}
